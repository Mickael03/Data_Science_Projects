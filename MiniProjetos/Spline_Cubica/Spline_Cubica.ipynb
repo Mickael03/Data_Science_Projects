{
 "cells": [
  {
   "cell_type": "markdown",
   "id": "7680cbee-ee27-4276-8e72-73e9bd0253f2",
   "metadata": {},
   "source": [
    "# Interpolação por Spline Cúbica"
   ]
  },
  {
   "cell_type": "markdown",
   "id": "d8e1cbd4-5332-49ed-b2bf-b207a89f5a70",
   "metadata": {},
   "source": [
    "A interpolação spline cúbica é método usado para criar uma função por partes, função matemática que é composta por diferentes expressões em diferentes intervalos do domínio. Os intervalos nesse casos são definidos a partir do conjunto de dados organizados em ordem crescente nesses intervalos construimos uma função polinomial de terceiro grau para representação os valores entre seus limites."
   ]
  },
  {
   "cell_type": "markdown",
   "id": "8406d1aa-e3db-422d-b187-84e1d10f403c",
   "metadata": {},
   "source": [
    "## Definição"
   ]
  },
  {
   "cell_type": "markdown",
   "id": "a64c84be-e507-49f8-b216-593247fd6bdf",
   "metadata": {
    "jp-MarkdownHeadingCollapsed": true
   },
   "source": [
    "Dados um conjuntos de $n$ pontos de dados $(x_{i},y_{i})$ onde $x_{0}<x_{1}<\\cdots<x_{n-2}<x_{n-1}$ a spline cúbica $S(x)$ é uma função no formanto:\n",
    "\n",
    "$S(x)=\\begin{cases}\n",
    "s_{0} = a_{0}+b_{0}(x-x_{0})+c_{0}(x-x_{0})^{2}+d_{0}(x-x_{0})^{3} & x_{0}\\leq x \\leq x_{1} \\\\\n",
    "\\vdots & \\vdots \\\\\n",
    "s_{i} = a_{i}+b_{i}(x-x_{i})+c_{i}(x-x_{i})^{2}+d_{i}(x-x_{i})^{3} & x_{i-1}\\leq x \\leq x_{i} \\\\\n",
    "\\vdots & \\vdots \\\\\n",
    "s_{n-2} = a_{n-2}+b_{n-2}(x-x_{n-2})+c_{n-2}(x-x_{n-2})^{2}+d_{n-2}(x-x_{n-2})^{3} & x_{n-2}\\leq x \\leq x_{n-1}\n",
    "\\end{cases}\n",
    "$\n",
    "\n",
    "São condições de contorno para sua existência:\n",
    "\n",
    "|Ponto|Condição - 01|Condição - 02|Condição - 03|Condição - 04|\n",
    "|:-:|:-:|:-:|:-:|:-:|\n",
    "|$0$|$S_{0}(x_{0}) = y_{0}$|$S_{0}(x_{1}) = y_{1}$|$S_{0}^{'}(x_{1}) = S_{1}^{'}(x_{1})$|$S_{0}^{''}(x_{1}) = S_{1}^{''}(x_{1})$|\n",
    "|$1$|$S_{1}(x_{1}) = y_{1}$|$S_{1}(x_{2}) = y_{2}$|$S_{1}^{'}(x_{2}) = S_{2}^{'}(x_{2})$|$S_{1}^{''}(x_{2}) = S_{2}^{''}(x_{2})$|\n",
    "|$\\vdots$|$\\vdots$|$\\vdots$|$\\vdots$|$\\vdots$|\n",
    "|$i-1$|$S_{i-1}(x_{i-1}) = y_{i-1}$|$S_{i-1}(x_{i}) = y_{i}$|$S_{i-1}^{'}(x_{i}) = S_{i}^{'}(x_{i})$|$S_{i-1}^{''}(x_{i}) = S_{i}^{''}(x_{i})$|\n",
    "|$i$|$S_{i}(x_{i}) = y_{i}$|$S_{i}(x_{i+1}) = y_{i+1}$|$S_{i}^{'}(x_{i+1}) = S_{i+1}^{'}(x_{i+1})$|$S_{i}^{''}(x_{i+1}) = S_{i+1}^{''}(x_{i+1})$|\n",
    "|$i+1$|$S_{i+1}(x_{i+1}) = y_{i+1}$|$S_{i+1}(x_{i+2}) = y_{i+2}$|$S_{i+1}^{'}(x_{i+2}) = S_{i+2}^{'}(x_{i+2})$|$S_{i+1}^{''}(x_{i+2}) = S_{i+2}^{''}(x_{i+2})$|\n",
    "|$\\vdots$|$\\vdots$|$\\vdots$|$\\vdots$|$\\vdots$|\n",
    "|$n-3$|$S_{n-3}(x_{n-3}) = y_{n-3}$|$S_{n-3}(x_{n-2}) = y_{n-2}$|$S_{n-3}^{'}(x_{n-2}) = S_{n-2}^{'}(x_{n-2})$|$S_{n-3}^{''}(x_{n-2}) = S_{n-2}^{''}(x_{n-2})$|\n",
    "|$n-2$|$S_{n-2}(x_{n-2}) = y_{n-2}$|$S_{n-2}(x_{n-1}) = y_{n-1}$|----|----|\n",
    "|$n-1$|----|----|----|----|\n",
    "\n",
    "Quando temos $n$ pontos a spline e composta por $n-1$ equações cada equação que compõem a spline apresentam quatro paramêtros, assim temos um total de $4(n-1)=4n-4$ paramêtros para conseguimos determinar a spline. As quatro condições impostas nos fornecem um total de $2(n-1)+2(n-2)=4n-6$ relações entre as equações. Observamos que $4n-4 \\neq 4n-6$, assim não temos como determinar todos os paramêtros, isso nos deixa com a necessidade de determinar mais duas relações. Por isso impomos um das seguintes condições de fronteira:\n",
    "\n",
    "1. As derivadas nos pontos finais são conhecidas, condições de contorno fixada.\n",
    "   > $s_{0}^{'}(x_{0})=k_{1}$ e $s_{n-2}^{'}(x_{n-1})=k_{2}$\n",
    "2. As segundas derivadas nos pontos finais são conhecidas, quando $s_{0}^{''}(x_{0})=s_{n-1}^{''}(x_{n-1})=0$ chamamos de condição de contorno natural ou simples\n",
    "   > $s_{0}^{''}(x_{0})=k_{1}$ e $s_{n-2}^{''}(x_{n-1})=k_{2}$\n",
    "\n",
    "Quando dispomosd de uma dessas condições possuímos o número toda de equações para determinar a spline, longe disso somos capazas de elaborar outras condições de fronteiras para obtermos outros modelos de interpolação que solucionar essa modelagem em questão.\n",
    "\n",
    "**Referências**\n",
    "* [Interpolação cúbica segmentada - spline](https://www.ufrgs.br/reamat/CalculoNumerico/livro-py/i1-interpolacao_cubica_segmentada_-_spline.html)\n",
    "* [Cubic Spline Interpolation](https://en.wikiversity.org/wiki/Cubic_Spline_Interpolation)\n",
    "* [Interpolaçõa Polinomial Splines Cúbicos](https://www.ime.usp.br/mat/2458/textos/splines.pdf)"
   ]
  },
  {
   "cell_type": "markdown",
   "id": "bc4e44e2-8e47-47a7-9783-4e79e1722b08",
   "metadata": {},
   "source": [
    "## Observação"
   ]
  },
  {
   "cell_type": "markdown",
   "id": "260cfaf5-e468-46d9-be6d-67cb53c4f390",
   "metadata": {},
   "source": [
    "Destamos que poderiamos recorrer diretamente a biblioteca [scipy](https://scipy.org/) por contém o método [`scipy.interpolate.CubicSpline`](https://docs.scipy.org/doc/scipy/reference/generated/scipy.interpolate.CubicSpline.html) que opera diretamente com esse método de interpolação. Recorre o scipy para modelagem desse tipo de interpolação se mostra muito mais eficiente em diverso níveis, diverso modelos de spline e velocidade no processamento, esse notebook trata somente de uma dos métodos de interpolação por Spline Cúbica de condição natural."
   ]
  },
  {
   "cell_type": "markdown",
   "id": "40901a75-04c8-4946-b677-660de9b716c2",
   "metadata": {},
   "source": [
    "# Módulos"
   ]
  },
  {
   "cell_type": "markdown",
   "id": "3ab261bc-7cb8-4859-88d2-d717a0e9938a",
   "metadata": {},
   "source": [
    "Desenvolveremos módulos interconectados que poderão realizar interpolação por spline cúbica."
   ]
  },
  {
   "cell_type": "markdown",
   "id": "a38bd6f1-68c9-4701-98ea-f670ddaa607f",
   "metadata": {},
   "source": [
    "## Condições"
   ]
  },
  {
   "cell_type": "code",
   "execution_count": 96,
   "id": "0810b017-1ab0-4ffa-8f98-116979eaa1d2",
   "metadata": {},
   "outputs": [],
   "source": [
    "def condicao_um (x = []):\n",
    "    '''\n",
    "    Gera os coeficientes da primeira condição para determinar as subfunções da spline.\n",
    "    \n",
    "    Parâmetros:\n",
    "        x (list): Lista das abscissas dos pontos para determinar a spline.\n",
    "      \n",
    "    Retorna:\n",
    "        list: Uma lista de listas, onde cada sublista contém os coeficientes para montar a matriz de solução do sistema.\n",
    "    '''\n",
    "    # Numeros de equações\n",
    "    quantidade_de_equacoes = len(x) - 1\n",
    "\n",
    "    # Coeficientes\n",
    "    coeficientes = []\n",
    "\n",
    "    #Gerar os coeficientes de cada subfunção da função por parte\n",
    "    j = 0\n",
    "    for _ in range(quantidade_de_equacoes):\n",
    "        k = [0 for _ in range(4*quantidade_de_equacoes)]\n",
    "        k[j] = 1\n",
    "        j += 4\n",
    "        coeficientes.append(k)\n",
    "        \n",
    "    return coeficientes"
   ]
  },
  {
   "cell_type": "code",
   "execution_count": 97,
   "id": "93c0c85c-c47a-496f-b952-1ac8f3d828bb",
   "metadata": {},
   "outputs": [
    {
     "data": {
      "text/plain": [
       "[[1, 0, 0, 0, 0, 0, 0, 0], [0, 0, 0, 0, 1, 0, 0, 0]]"
      ]
     },
     "execution_count": 97,
     "metadata": {},
     "output_type": "execute_result"
    }
   ],
   "source": [
    "condicao_um([-5,-1,3])"
   ]
  },
  {
   "cell_type": "code",
   "execution_count": 98,
   "id": "bae57571-669c-41dc-a574-e08bfdf3fb06",
   "metadata": {},
   "outputs": [],
   "source": [
    "def condicao_dois(x = []):\n",
    "    '''\n",
    "    Gera os coeficientes da segunda condição para determinar as subfunções da spline.\n",
    "    \n",
    "    Parâmetros:\n",
    "        x (list): Lista das abscissas dos pontos para determinar a spline.\n",
    "      \n",
    "    Retorna:\n",
    "        list: Uma lista de listas, onde cada sublista contém os coeficientes para montar a matriz de solução do sistema.\n",
    "    '''\n",
    "    # Numeros de equações\n",
    "    quantidade_de_equacoes = len(x) - 1\n",
    "\n",
    "    # Coeficientes\n",
    "    coeficientes = []\n",
    "    \n",
    "    #Gerar os coeficientes de cada subfunção da função por parte\n",
    "    i,j = 0,0\n",
    "    for _ in range(quantidade_de_equacoes):\n",
    "        k = [0 for elemento in range(4*quantidade_de_equacoes)]\n",
    "        k[j]  = 1\n",
    "        k[j+1] = x[i+1] - x[i]\n",
    "        k[j+2] = (x[i+1] - x[i])**2\n",
    "        k[j+3] = (x[i+1] - x[i])**3\n",
    "        coeficientes.append(k)\n",
    "        j += 4\n",
    "        i += 1\n",
    "\n",
    "    return coeficientes"
   ]
  },
  {
   "cell_type": "code",
   "execution_count": 99,
   "id": "189f89e6-f735-4c50-aabf-9ee02e768577",
   "metadata": {},
   "outputs": [
    {
     "data": {
      "text/plain": [
       "[[1, 4, 16, 64, 0, 0, 0, 0], [0, 0, 0, 0, 1, 4, 16, 64]]"
      ]
     },
     "execution_count": 99,
     "metadata": {},
     "output_type": "execute_result"
    }
   ],
   "source": [
    "condicao_dois([-5,-1,3])"
   ]
  },
  {
   "cell_type": "code",
   "execution_count": 100,
   "id": "627827b0-04d4-46e0-9ac6-9be7c3d41b09",
   "metadata": {},
   "outputs": [],
   "source": [
    "def condicao_tres(x = []):\n",
    "    '''\n",
    "    Gera os coeficientes da terceira condição para determinar as subfunções da spline.\n",
    "    \n",
    "    Parâmetros:\n",
    "        x (list): Lista das abscissas dos pontos para determinar a spline.\n",
    "      \n",
    "    Retorna:\n",
    "        list: Uma lista de listas, onde cada sublista contém os coeficientes para montar a matriz de solução do sistema.\n",
    "    '''\n",
    "    # Numeros de equações\n",
    "    quantidade_de_equacoes = len(x) - 1\n",
    "\n",
    "    # Coeficientes\n",
    "    coeficientes = []\n",
    "\n",
    "    # Gerar os coeficientes de cada uma das primeira derivadas das subfunção da função por parte\n",
    "    i,j = 0, 0\n",
    "    for _ in range(quantidade_de_equacoes-1):\n",
    "        k = [0 for i in range(4*quantidade_de_equacoes)]\n",
    "        k[j + 1] = 1\n",
    "        k[j + 2] = 2*(x[i+1]-x[i])\n",
    "        k[j + 3] = 3*(x[i+1]-x[i])**2\n",
    "        k[j + 5] = -1\n",
    "        \n",
    "        coeficientes.append(k)\n",
    "        j += 4\n",
    "        i += 1\n",
    "\n",
    "    return coeficientes"
   ]
  },
  {
   "cell_type": "code",
   "execution_count": 101,
   "id": "c1fea317-a320-4b98-89fa-407544b91309",
   "metadata": {},
   "outputs": [
    {
     "data": {
      "text/plain": [
       "[[0, 1, 4, 12, 0, -1, 0, 0]]"
      ]
     },
     "execution_count": 101,
     "metadata": {},
     "output_type": "execute_result"
    }
   ],
   "source": [
    "condicao_tres([-2,0,2])"
   ]
  },
  {
   "cell_type": "code",
   "execution_count": 102,
   "id": "f1716529-c2be-4138-bd96-4e42deb72655",
   "metadata": {},
   "outputs": [],
   "source": [
    "def condicao_quatro(x = []):\n",
    "    '''\n",
    "    Gera os coeficientes da quarta condição para determinar as subfunções da spline.\n",
    "    \n",
    "    Parâmetros:\n",
    "        x (list): Lista das abscissas dos pontos para determinar a spline.\n",
    "      \n",
    "    Retorna:\n",
    "        list: Uma lista de listas, onde cada sublista contém os coeficientes para montar a matriz de solução do sistema.\n",
    "    '''\n",
    "    # Numeros de equações\n",
    "    quantidade_de_equacoes = len(x) - 1\n",
    "\n",
    "    # Coeficientes\n",
    "    coeficientes = []\n",
    "\n",
    "    # Gerar os coeficientes de cada uma das primeira derivadas das subfunção da função por parte\n",
    "    i,j = 0,0\n",
    "    for _ in range(quantidade_de_equacoes-1):\n",
    "        k = [0 for i in range(4*quantidade_de_equacoes)]\n",
    "        k[j + 2] = 2\n",
    "        k[j + 3] = 6*(x[i+1]-x[i])\n",
    "        k[j + 6] = -2\n",
    "        \n",
    "        coeficientes.append(k)\n",
    "        j += 4\n",
    "        i += 1\n",
    "        \n",
    "    return coeficientes"
   ]
  },
  {
   "cell_type": "code",
   "execution_count": 103,
   "id": "a7cc6f42-5a02-41ca-bd7b-813f6323874f",
   "metadata": {},
   "outputs": [
    {
     "data": {
      "text/plain": [
       "[[0, 0, 2, 24, 0, 0, -2, 0]]"
      ]
     },
     "execution_count": 103,
     "metadata": {},
     "output_type": "execute_result"
    }
   ],
   "source": [
    "condicao_quatro([-5,-1,3])"
   ]
  },
  {
   "cell_type": "code",
   "execution_count": 104,
   "id": "27b5b307-b468-4447-a1f2-23d2e73a4d76",
   "metadata": {},
   "outputs": [],
   "source": [
    "def condicao_cinco(x = [], condicao = 'natural'):\n",
    "    '''\n",
    "    Gera os coeficientes da quinta condição para determinar as subfunções da spline.\n",
    "    \n",
    "    Parâmetros:\n",
    "        x (list): Lista das abscissas dos pontos para determinar a spline.\n",
    "        condicao (str): Tipo de condição a se aplicada, fixada quando temos somente a primeira derivada e natural quando temos a segunda derivada.\n",
    "      \n",
    "    Retorna:\n",
    "        list: Uma lista de listas, onde cada sublista contém os coeficientes para montar a matriz de solução do sistema.\n",
    "    '''\n",
    "    # Número de equações \n",
    "    quantidade_de_equacoes = len(x) - 1\n",
    "\n",
    "    # Lista com os coeficientes \n",
    "    coeficientes = []\n",
    "\n",
    "    # Criar a lista com os coeficientes de  cada subfunção\n",
    "    if condicao == 'fixado':\n",
    "        k = [0 for i in range(4*quantidade_de_equacoes)]\n",
    "        k[1] = 1\n",
    "        k[2] = 2*(x[0]-x[0])\n",
    "        k[3] = 3*(x[0]-x[0])**2\n",
    "\n",
    "        z = [0 for i in range(4*quantidade_de_equacoes)]\n",
    "        z[-1] = 3*(x[-1]-x[-2])**2\n",
    "        z[-2] = 2*(x[-1]-x[-2])\n",
    "        z[-3] = 1\n",
    "    \n",
    "        coeficientes = [k,z]\n",
    "    \n",
    "    if condicao == 'natural':\n",
    "        k = [0 for i in range(4*quantidade_de_equacoes)]\n",
    "        k[2] = 2\n",
    "        k[3] = 6*(x[0]-x[0])\n",
    "\n",
    "        z = [0 for i in range(4*quantidade_de_equacoes)]\n",
    "        z[-1] = 6*(x[-1]-x[-2])\n",
    "        z[-2] = 2\n",
    "    \n",
    "        coeficientes = [k,z]\n",
    "\n",
    "    return coeficientes"
   ]
  },
  {
   "cell_type": "code",
   "execution_count": 105,
   "id": "dd046b89-044b-4ea4-9033-9b3537dd37f9",
   "metadata": {},
   "outputs": [
    {
     "data": {
      "text/plain": [
       "[[0, 0, 2, 0, 0, 0, 0, 0], [0, 0, 0, 0, 0, 0, 2, 12]]"
      ]
     },
     "execution_count": 105,
     "metadata": {},
     "output_type": "execute_result"
    }
   ],
   "source": [
    "condicao_cinco([-2,0,2], condicao = 'natural')"
   ]
  },
  {
   "cell_type": "code",
   "execution_count": 106,
   "id": "50ecf0b7-fba0-4e18-b90e-3982a5dd6fea",
   "metadata": {},
   "outputs": [
    {
     "data": {
      "text/plain": [
       "[[0, 1, 0, 0, 0, 0, 0, 0], [0, 0, 0, 0, 0, 1, 4, 12]]"
      ]
     },
     "execution_count": 106,
     "metadata": {},
     "output_type": "execute_result"
    }
   ],
   "source": [
    "condicao_cinco([-2,0,2], condicao='fixado')"
   ]
  },
  {
   "cell_type": "markdown",
   "id": "5294dc13-db61-439f-a1f6-73a3b3d7a337",
   "metadata": {},
   "source": [
    "## Construção do sistema linear."
   ]
  },
  {
   "cell_type": "markdown",
   "id": "dc998219-8ed4-473d-ae3d-2d5744319509",
   "metadata": {},
   "source": [
    "Para conseguimos determinar a spline precisamos solucionar as diversas equações criadas pelas condições impostas, podemos resolver o sistema criado por meio de uma estrutura matricial, **Ax=b**. Onde:\n",
    "> 1. **A** *(Matriz dos coeficientes)*: Contém os coeficientes das variáveis do sistema.\n",
    "> 2. **x** *(Matriz das incógnitas)*: Matriz com as variáveis do sistema.\n",
    "> 3. **b** *(Matriz dos termos independentes)*: Contém os valores independentes dos sistema."
   ]
  },
  {
   "cell_type": "code",
   "execution_count": 107,
   "id": "776dd094-295f-4b7a-8b51-9b98452eeb9d",
   "metadata": {},
   "outputs": [],
   "source": [
    "import Condicoes"
   ]
  },
  {
   "cell_type": "code",
   "execution_count": 108,
   "id": "cfc4c5cb-6fa8-4a46-9531-32b387a746a1",
   "metadata": {},
   "outputs": [],
   "source": [
    "def matriz_dos_coeficientes(x = [], condicao = 'natural'):\n",
    "    '''\n",
    "    Combina os coeficientes gerados pelas funções de condições para a montagem a matriz dos coeficientes para solucionar o sistema linear afim \n",
    "    de determinar os coeficientes de cada subfunção.\n",
    "    \n",
    "    Paramêtros:\n",
    "        x (list): Lista das abscissas dos pontos para determinar a spline.\n",
    "        condicao (str): Tipo de condição a se aplicada, \"fixada\" quando temos somente a primeira derivada e \"natural\" quando temos a segunda derivada.\n",
    "\n",
    "    Return:\n",
    "        list: Uma lista de listas.\n",
    "    '''\n",
    "    # Junta todas as sublistas das condições em uma unica lista\n",
    "    coeficientes = Condicoes.condicao_um(x) + Condicoes.condicao_dois(x) + Condicoes.condicao_tres(x)\n",
    "    coeficientes += Condicoes.condicao_quatro(x) + Condicoes.condicao_cinco(x, condicao)\n",
    "    \n",
    "    return coeficientes"
   ]
  },
  {
   "cell_type": "code",
   "execution_count": 109,
   "id": "1aa3af48-7465-43cd-b19d-8c6f92e506c6",
   "metadata": {},
   "outputs": [
    {
     "data": {
      "text/plain": [
       "[[1, 0, 0, 0, 0, 0, 0, 0],\n",
       " [0, 0, 0, 0, 1, 0, 0, 0],\n",
       " [1, 2, 4, 8, 0, 0, 0, 0],\n",
       " [0, 0, 0, 0, 1, 2, 4, 8],\n",
       " [0, 1, 4, 12, 0, -1, 0, 0],\n",
       " [0, 0, 2, 12, 0, 0, -2, 0],\n",
       " [0, 0, 2, 0, 0, 0, 0, 0],\n",
       " [0, 0, 0, 0, 0, 0, 2, 12]]"
      ]
     },
     "execution_count": 109,
     "metadata": {},
     "output_type": "execute_result"
    }
   ],
   "source": [
    "matriz_dos_coeficientes([-2,0,2], condicao = 'natural')"
   ]
  },
  {
   "cell_type": "code",
   "execution_count": 110,
   "id": "44626ccc-9953-4c41-b7da-01e07189bc70",
   "metadata": {},
   "outputs": [
    {
     "data": {
      "text/plain": [
       "[[1, 0, 0, 0, 0, 0, 0, 0],\n",
       " [0, 0, 0, 0, 1, 0, 0, 0],\n",
       " [1, 2, 4, 8, 0, 0, 0, 0],\n",
       " [0, 0, 0, 0, 1, 2, 4, 8],\n",
       " [0, 1, 4, 12, 0, -1, 0, 0],\n",
       " [0, 0, 2, 12, 0, 0, -2, 0],\n",
       " [0, 1, 0, 0, 0, 0, 0, 0],\n",
       " [0, 0, 0, 0, 0, 1, 4, 12]]"
      ]
     },
     "execution_count": 110,
     "metadata": {},
     "output_type": "execute_result"
    }
   ],
   "source": [
    "matriz_dos_coeficientes([-2,-0,2], condicao='fixado')"
   ]
  },
  {
   "cell_type": "code",
   "execution_count": 111,
   "id": "525b077b-b5d6-45d4-87cb-97ddb77ca50d",
   "metadata": {},
   "outputs": [],
   "source": [
    "def termos_constantes(y = [], valores = [0,0]):\n",
    "    '''\n",
    "    Gerar a lista com termos constantes para solução do sistema linear que ira determinar as subfunções.\n",
    "    \n",
    "    Paramêtros:\n",
    "        y: Lista com as ordenadas para determinar o spline.\n",
    "        valores (list): Lista de dois elementos que definir os termos constantes das quinta condição\n",
    "\n",
    "    Return:\n",
    "        list: Uma lista com os termos constantes para solução.\n",
    "    '''    \n",
    "    #Lista com resultados não nulos\n",
    "    termos_constantes = y[:-1] # Coeficientes da primeira condição\n",
    "    termos_constantes += y[1:] # Coeficientes da segunda condição\n",
    "    termos_constantes += [0]*(len(y) - 2) # Coeficientes da Terceira condição\n",
    "    termos_constantes += [0]*(len(y) - 2) # Coeficientes da Quarta condição\n",
    "    termos_constantes += valores # Coeficientes da Quinta condição\n",
    "    \n",
    "    return termos_constantes"
   ]
  },
  {
   "cell_type": "code",
   "execution_count": 112,
   "id": "cd5fa702-52f0-4572-91a2-b97befbae01c",
   "metadata": {},
   "outputs": [
    {
     "data": {
      "text/plain": [
       "[-6, 0, 0, 6, 0, 0, 0, 0]"
      ]
     },
     "execution_count": 112,
     "metadata": {},
     "output_type": "execute_result"
    }
   ],
   "source": [
    "termos_constantes([-6,0,6])"
   ]
  },
  {
   "cell_type": "code",
   "execution_count": 113,
   "id": "53beef15-82fb-436c-afc0-df0eab3cebf5",
   "metadata": {},
   "outputs": [
    {
     "data": {
      "text/plain": [
       "[-6, 0, 0, 6, 0, 0, 11, 11]"
      ]
     },
     "execution_count": 113,
     "metadata": {},
     "output_type": "execute_result"
    }
   ],
   "source": [
    "termos_constantes([-6,0,6], valores = [11,11])"
   ]
  },
  {
   "cell_type": "markdown",
   "id": "4376fb7f-d590-4fee-a5db-219d4dc66063",
   "metadata": {},
   "source": [
    "## Solução do sistema"
   ]
  },
  {
   "cell_type": "code",
   "execution_count": 114,
   "id": "2fa16a9a-f476-48cb-947a-d7c78a6d52f8",
   "metadata": {},
   "outputs": [],
   "source": [
    "from numpy.linalg import solve"
   ]
  },
  {
   "cell_type": "code",
   "execution_count": 115,
   "id": "f67dd7f9-1de0-41b9-8825-a8a67cda52e8",
   "metadata": {},
   "outputs": [],
   "source": [
    "def solucao(x = [], y = [], condicao = 'natural', valores = [0,0]):\n",
    "    '''\n",
    "    Resolve o sistema linear Ax=b que determinar os coeficientes de cada subfunção que compõem a spline\n",
    "    \n",
    "    Paramêtros:\n",
    "        x (list): lista com abscissas dos diversos pontos.\n",
    "        y (list): Lista com as ordenadas dos diversos pontos.\n",
    "        condicao (str): Tipo de condição a se aplicada, \"fixado\" quando temos somente a primeira derivada e \"natural\" quando temos a segunda derivada.\n",
    "        valores (list): Lista de dois elementos que definir os termos constantes das condições.\n",
    "\n",
    "    Return:\n",
    "        list: Lista de lista com os coeficientes associados a cada subfunção que compõem a spline.\n",
    "                c[i,j] onde 0 <= i <= n-2 e 0 <= j <= 3 representa os coeficientes da subfunção i e coeficiente\n",
    "                j da equação do terceiro grau.\n",
    "    '''\n",
    "    #Matriz dos coeficientes\n",
    "    A = matriz_dos_coeficientes(x, condicao)\n",
    "    \n",
    "    #Matriz dos termos independentes\n",
    "    b = termos_constantes(y, valores)\n",
    "\n",
    "    # Agrupado os coeficientes de acordo com subfunção s_i\n",
    "    coeficientes = []\n",
    "    k = []\n",
    "    count = 1\n",
    "    for i in solve(A, b):\n",
    "        \n",
    "        k.append(float(i))\n",
    "        count += 1\n",
    "        \n",
    "        if count > 4:\n",
    "            coeficientes.append(k)\n",
    "            k = []  # Reinicializa a lista\n",
    "            count = 1  # Reinicia a contagem\n",
    "    \n",
    "    # Adiciona o último conjunto se não estiver vazio\n",
    "    if k:\n",
    "        coeficientes.append(k)\n",
    "    \n",
    "    return coeficientes"
   ]
  },
  {
   "cell_type": "code",
   "execution_count": 116,
   "id": "697201f6-0d9a-4fa7-90d4-40c653401e67",
   "metadata": {},
   "outputs": [
    {
     "data": {
      "text/plain": [
       "[[-6.0, 3.0, 0.0, -0.0], [0.0, 3.0, -0.0, 0.0]]"
      ]
     },
     "execution_count": 116,
     "metadata": {},
     "output_type": "execute_result"
    }
   ],
   "source": [
    "solucao([-2,0,2], [-6,0,6])"
   ]
  },
  {
   "cell_type": "markdown",
   "id": "fb153156-3a4b-4d8e-836e-6d7236261233",
   "metadata": {},
   "source": [
    "## Transformando a Spline Cúbica em um Classe"
   ]
  },
  {
   "cell_type": "code",
   "execution_count": 117,
   "id": "e6d55e22-080b-4a97-9a71-121264e9ede3",
   "metadata": {},
   "outputs": [],
   "source": [
    "import SistemaEquacoes"
   ]
  },
  {
   "cell_type": "code",
   "execution_count": 118,
   "id": "e9b6f9d6-35c7-4b0d-9b6d-9e22f023e413",
   "metadata": {},
   "outputs": [],
   "source": [
    "class SplineCubica():\n",
    "    '''\n",
    "    Classe para representar uma spline cúbica.\n",
    "    \n",
    "    Parâmetros:\n",
    "        x (list): Lista com abscissas dos pontos de interpolação.\n",
    "        y (list): Lista com as ordenadas dos pontos de interpolação.\n",
    "        condicao (str, opcional): Defini a condição de fronteira a se aplicada. 'natural' ou 'fixada'.\n",
    "        valores (list, opcional): Lista com dois elementos que definem os termos constantes da condição de fronteira.\n",
    "    '''\n",
    "\n",
    "    def __init__(self, x, y, condicao = 'natural', valores = [0,0]):\n",
    "        '''Inicializa a classe SplineCubica com os pontos de interpolação e a condição de fronteira.'''\n",
    "        \n",
    "        if not (isinstance(x, list) and isinstance(y, list)): # Verifica se x e y são listas\n",
    "            raise TypeError(\"x e y devem ser listas.\")\n",
    "        if len(x) != len(y): # Verificar se x e y têm o mesmo tamanho\n",
    "            raise ValueError(\"x e y devem ter o mesmo tamanho.\")\n",
    "        \n",
    "        self.x = x\n",
    "        self.y = y\n",
    "        self.condicao = condicao\n",
    "        self.valores = valores\n",
    "        self.coeficientes = SistemaEquacoes.solucao(x, y, condicao, valores)\n",
    "\n",
    "    def __valor(self, numero):\n",
    "        '''Calcula o valor da spline cúbica para um determinado ponto.\n",
    "        \n",
    "        Parâmetro:\n",
    "            numero (float): Número que se deseja calcula o valor do spline\n",
    "        \n",
    "        Returno:\n",
    "            float: Retorna o valor calculado do spline.\n",
    "        '''\n",
    "\n",
    "        for i in range(len(self.x)-1):\n",
    "            if self.x[i] <= numero <= self.x[i+1]:\n",
    "                c_0 = self.coeficientes[i][0]\n",
    "                c_1 = self.coeficientes[i][1]\n",
    "                c_2 = self.coeficientes[i][2]\n",
    "                c_3 = self.coeficientes[i][3]\n",
    "\n",
    "                return c_0 + c_1*(numero - self.x[i]) + c_2*(numero - self.x[i])**2 + c_3*(numero - self.x[i])**3\n",
    "            \n",
    "    def __lista_valores(self, lista):\n",
    "        '''Calcula os valores da spline cúbica para uma lista de pontos.\n",
    "        \n",
    "        Parâmetro:\n",
    "            lista (list): lista de valores que se deseja calcula o valor do spline\n",
    "            \n",
    "        Returne:\n",
    "            list: Retorna uma lista com os valores calculados do spline\n",
    "        '''\n",
    "\n",
    "        return [self.__valor(i) for i in lista]\n",
    " \n",
    "\n",
    "    def __call__(self, numero):\n",
    "        '''\n",
    "        Dar a classe um comportamento de função.\n",
    "        \n",
    "        Parâmetros:\n",
    "            numero (float ou list): Ponto ou lista de pontos onde se deseja calcular o valor da spline.\n",
    "            \n",
    "        Retorno:\n",
    "            float or list:  valor da spline cúbica no ponto especificado.\n",
    "        '''\n",
    "\n",
    "        if isinstance(numero, list):\n",
    "            return self.__lista_valores(numero)\n",
    "        if isinstance(numero, (int,float)):\n",
    "            return self.__valor(numero)"
   ]
  },
  {
   "cell_type": "code",
   "execution_count": 119,
   "id": "f0d845b8-47ad-4a61-a167-b166747d264f",
   "metadata": {},
   "outputs": [
    {
     "name": "stdout",
     "output_type": "stream",
     "text": [
      "Tipo de condição de fronteira: natural\n",
      "Valores de fronteira: [0, 0]\n",
      "Coeficientes das função Spline: [[-6.0, 3.0, 0.0, -0.0], [0.0, 3.0, -0.0, 0.0]]\n",
      "Valores das abcissas: [-2, 0, 2]\n",
      "Valores das ordenadas: [-6, 0, 6]\n"
     ]
    }
   ],
   "source": [
    "sc_1 = SplineCubica(x = [-2,0,2], y = [-6,0,6])\n",
    "print(f\"Tipo de condição de fronteira: {sc_1.condicao}\")\n",
    "print(f\"Valores de fronteira: {sc_1.valores}\")\n",
    "print(f\"Coeficientes das função Spline: {sc_1.coeficientes}\")\n",
    "print(f\"Valores das abcissas: {sc_1.x}\")\n",
    "print(f\"Valores das ordenadas: {sc_1.y}\")"
   ]
  },
  {
   "cell_type": "code",
   "execution_count": 120,
   "id": "44ae2a79-9784-4d58-ae03-5f94da0f92db",
   "metadata": {
    "scrolled": true
   },
   "outputs": [
    {
     "name": "stdout",
     "output_type": "stream",
     "text": [
      "Tipo de condição de fronteira: fixado\n",
      "Valores de fronteira: [0, 0]\n",
      "Coeficientes das função Spline: [[0.0, 0.0, 4.5, -1.5]]\n",
      "Valores das abcissas: [-2, 0, 2]\n",
      "Valores das ordenadas: [-6, 0, 6]\n"
     ]
    }
   ],
   "source": [
    "sc_2 = SplineCubica([-2,0], [0,6], condicao = 'fixado')\n",
    "print(f\"Tipo de condição de fronteira: {sc_2.condicao}\")\n",
    "print(f\"Valores de fronteira: {sc_2.valores}\")\n",
    "print(f\"Coeficientes das função Spline: {sc_2.coeficientes}\")\n",
    "print(f\"Valores das abcissas: {sc_1.x}\")\n",
    "print(f\"Valores das ordenadas: {sc_1.y}\")"
   ]
  },
  {
   "cell_type": "code",
   "execution_count": 121,
   "id": "16f637fa-3024-461e-8f6c-79944cddf873",
   "metadata": {},
   "outputs": [
    {
     "name": "stdout",
     "output_type": "stream",
     "text": [
      "Tipo de condição de fronteira: natural\n",
      "Valores de fronteira: [-9, 0]\n",
      "Coeficientes das função Spline: [[1.0, 14.375, -4.5, 0.3645833333333333], [4.0, -0.25, 2.0625, -0.34375]]\n",
      "Valores das abcissas: [0, 6, 8]\n",
      "Valores das ordenadas: [1, 4, 9]\n"
     ]
    }
   ],
   "source": [
    "sc_3 = SplineCubica([0,6,8], [1,4,9], 'natural', [-9,0])\n",
    "print(f\"Tipo de condição de fronteira: {sc_3.condicao}\")\n",
    "print(f\"Valores de fronteira: {sc_3.valores}\")\n",
    "print(f\"Coeficientes das função Spline: {sc_3.coeficientes}\")\n",
    "print(f\"Valores das abcissas: {sc_3.x}\")\n",
    "print(f\"Valores das ordenadas: {sc_3.y}\")"
   ]
  },
  {
   "cell_type": "code",
   "execution_count": 122,
   "id": "7875c7b4-83d1-4f21-a211-d163dd18742e",
   "metadata": {},
   "outputs": [
    {
     "name": "stdout",
     "output_type": "stream",
     "text": [
      "Tipo de condição de fronteira: fixado\n",
      "Valores de fronteira: [9, -9]\n",
      "Coeficientes das função Spline: [[0.0, 9.0, -4.84375, 0.921875], [6.0, 0.6875, 0.6875000000000002, -0.166087962962963]]\n",
      "Valores das abcissas: [-2, 0, 6]\n",
      "Valores das ordenadas: [0, 6, -1]\n"
     ]
    }
   ],
   "source": [
    "sc_4 = SplineCubica([-2,0,6], [0,6,-1], 'fixado', [9,-9])\n",
    "print(f\"Tipo de condição de fronteira: {sc_4.condicao}\")\n",
    "print(f\"Valores de fronteira: {sc_4.valores}\")\n",
    "print(f\"Coeficientes das função Spline: {sc_4.coeficientes}\")\n",
    "print(f\"Valores das abcissas: {sc_4.x}\")\n",
    "print(f\"Valores das ordenadas: {sc_4.y}\")"
   ]
  },
  {
   "cell_type": "markdown",
   "id": "92df1cd3-05cb-4a0c-95a6-7388edfbd449",
   "metadata": {},
   "source": [
    "# Caso particular"
   ]
  },
  {
   "cell_type": "markdown",
   "id": "7f57be22-7706-49a1-b878-a9bff244ea41",
   "metadata": {},
   "source": [
    "Considerando alguns pontos da função $f(x) = x^{3}-x = x(x-1)(x+1)$ no intervalo $[-3, 3]$ construiremos o spline natural e fixado e compararemos com os resultado da função $f(x)$."
   ]
  },
  {
   "cell_type": "code",
   "execution_count": 123,
   "id": "4b6d2a2d-07ae-43d9-9623-88522ee7d428",
   "metadata": {},
   "outputs": [],
   "source": [
    "# Plotar os gráficos\n",
    "import matplotlib.pyplot as plt"
   ]
  },
  {
   "cell_type": "code",
   "execution_count": 124,
   "id": "23da3a95-b3c7-43db-8131-3b8b727fc39f",
   "metadata": {},
   "outputs": [],
   "source": [
    "# Função f(x)\n",
    "x = [i/10 for i in range(-30,31)]\n",
    "f = [i*(i-1)*(i+1) for i in x]"
   ]
  },
  {
   "cell_type": "code",
   "execution_count": 125,
   "id": "ce4214da-b98e-41bf-9609-b2d99161a599",
   "metadata": {},
   "outputs": [],
   "source": [
    "# Pontos para interpolação\n",
    "x_interpolacao = [-3,-2,0,2,3]\n",
    "y_interpolacao = [-24,-6,0,6,24]"
   ]
  },
  {
   "cell_type": "code",
   "execution_count": 126,
   "id": "187a4428-2676-4d2f-97cf-38f221cad8ef",
   "metadata": {},
   "outputs": [],
   "source": [
    "# Splines\n",
    "sc_1 = SplineCubica(x_interpolacao, y_interpolacao, 'fixado', [26,26])\n",
    "sc_2 = SplineCubica(x_interpolacao, y_interpolacao, 'natural', [-18,18])"
   ]
  },
  {
   "cell_type": "code",
   "execution_count": 127,
   "id": "3ec6e4f9-8efb-4c5b-9a69-152983605a07",
   "metadata": {},
   "outputs": [
    {
     "data": {
      "image/png": "[encoded data removed]",
      "text/plain": [
       "<Figure size 1000x500 with 3 Axes>"
      ]
     },
     "metadata": {},
     "output_type": "display_data"
    }
   ],
   "source": [
    "# Subgráficos\n",
    "fig, axes = plt.subplots(1, 3, figsize=(10, 5))\n",
    "\n",
    "# Spline Fixado\n",
    "axes[0].plot(x, sc_1(x))\n",
    "axes[0].plot(x_interpolacao, y_interpolacao, 'ro', label='Pontos de interpolação')\n",
    "axes[0].set_title('Fixado')\n",
    "axes[0].legend()\n",
    "axes[0].grid()\n",
    "\n",
    "# Função\n",
    "axes[1].plot(x, f)\n",
    "axes[1].plot(x_interpolacao, y_interpolacao, 'ro', label='Pontos de interpolação')\n",
    "axes[1].set_title('Função')\n",
    "axes[1].legend()\n",
    "axes[1].grid()\n",
    "\n",
    "# Spline  Natural\n",
    "axes[2].plot(x, sc_2(x))\n",
    "axes[2].plot(x_interpolacao, y_interpolacao, 'ro', label='Pontos de interpolação')\n",
    "axes[2].set_title('Natural')\n",
    "axes[2].legend()\n",
    "axes[2].grid()\n",
    "\n",
    "# Design do gráfico\n",
    "plt.tight_layout() # Ajustar espaçamento\n",
    "plt.suptitle('Interpolações com Spline', fontsize=16, y=1)\n",
    "plt.subplots_adjust(top=0.85)  # Ajusta o espaço para o título\n",
    "plt.show()"
   ]
  },
  {
   "cell_type": "markdown",
   "id": "7ce09842-5166-4a63-bc6a-eeba1fffcf3e",
   "metadata": {},
   "source": [
    "# Tratando a Spline como um módulo "
   ]
  },
  {
   "cell_type": "code",
   "execution_count": 128,
   "id": "43ef5ea6-db60-44be-a9b0-bae1d9a1264a",
   "metadata": {},
   "outputs": [],
   "source": [
    "import Spline"
   ]
  },
  {
   "cell_type": "code",
   "execution_count": 129,
   "id": "5ec5faaa-ea9f-4e2d-b7a3-e4941e0c3b1f",
   "metadata": {},
   "outputs": [],
   "source": [
    "# Pontos de interpolação\n",
    "x_interpolacao = [-4,-2,0,3,6]\n",
    "y_interpolacao = [-3,5,8,-7,1]\n",
    "\n",
    "# Valores para teste\n",
    "x = [i/10 for i in range(-60,61)]"
   ]
  },
  {
   "cell_type": "code",
   "execution_count": 130,
   "id": "6b44a8dc",
   "metadata": {},
   "outputs": [],
   "source": [
    "# Criando instâncias de splines naturais\n",
    "spline_01 = Spline.SplineCubica(x_interpolacao, y_interpolacao, 'natural')\n",
    "spline_02 = Spline.SplineCubica(x_interpolacao, y_interpolacao, 'natural', [-10,10])\n",
    "spline_03 = Spline.SplineCubica(x_interpolacao, y_interpolacao, 'natural', [10,-10])"
   ]
  },
  {
   "cell_type": "code",
   "execution_count": 131,
   "id": "2bd53a0c-4160-4a92-8897-3d9d4968d203",
   "metadata": {},
   "outputs": [],
   "source": [
    "# Criando instâncias de splines fixadas\n",
    "spline_04 = Spline.SplineCubica(x_interpolacao, y_interpolacao, 'fixado')\n",
    "spline_05 = Spline.SplineCubica(x_interpolacao, y_interpolacao, 'fixado', [-10,10])\n",
    "spline_06 = Spline.SplineCubica(x_interpolacao, y_interpolacao, 'fixado', [10,-10])"
   ]
  },
  {
   "cell_type": "code",
   "execution_count": 132,
   "id": "b1e9482f-ff43-4d77-8d22-3363aca92fe0",
   "metadata": {},
   "outputs": [
    {
     "data": {
      "image/png": "[encoded data removed]",
      "text/plain": [
       "<Figure size 1000x500 with 2 Axes>"
      ]
     },
     "metadata": {},
     "output_type": "display_data"
    }
   ],
   "source": [
    "# Gerando o gráficos\n",
    "fig, axes = plt.subplots(1, 2, figsize=(10, 5))\n",
    "\n",
    "# Splines Naturais\n",
    "axes[0].plot(x, spline_01(x), label = 'Derivadas: 0 e 0')\n",
    "axes[0].plot(x, spline_02(x), label = 'Derivadas: -10 e 10')\n",
    "axes[0].plot(x, spline_03(x), label = 'Derivadas: 10 e -10')\n",
    "axes[0].plot(x_interpolacao, y_interpolacao, 'ro', label='Pontos de interpolação')\n",
    "axes[0].set_title('Natural')\n",
    "axes[0].legend()\n",
    "axes[0].grid()\n",
    "\n",
    "# Splines Fixadas\n",
    "axes[1].plot(x, spline_04(x), label = 'Derivadas: 0 e 0')\n",
    "axes[1].plot(x, spline_05(x), label = 'Derivadas: -10 e 10')\n",
    "axes[1].plot(x, spline_06(x), label = 'Derivadas: 10 e -10')\n",
    "axes[1].plot(x_interpolacao, y_interpolacao, 'ro', label='Pontos de interpolação')\n",
    "axes[1].set_title('Fixado')\n",
    "axes[1].legend()\n",
    "axes[1].grid()\n",
    "\n",
    "# Design do gráfico\n",
    "plt.tight_layout() # Ajustar espaçamento\n",
    "plt.suptitle('Splines', fontsize=16, y=1)\n",
    "plt.subplots_adjust(top=0.85)  # Ajusta o espaço para o título\n",
    "plt.show()"
   ]
  },
  {
   "cell_type": "code",
   "execution_count": null,
   "id": "46840e9c-6d8b-4675-bb3a-56e471248ec2",
   "metadata": {},
   "outputs": [],
   "source": []
  }
 ],
 "metadata": {
  "kernelspec": {
   "display_name": "Python 3",
   "language": "python",
   "name": "python3"
  },
  "language_info": {
   "codemirror_mode": {
    "name": "ipython",
    "version": 3
   },
   "file_extension": ".py",
   "mimetype": "text/x-python",
   "name": "python",
   "nbconvert_exporter": "python",
   "pygments_lexer": "ipython3",
   "version": "3.13.3"
  }
 },
 "nbformat": 4,
 "nbformat_minor": 5
}

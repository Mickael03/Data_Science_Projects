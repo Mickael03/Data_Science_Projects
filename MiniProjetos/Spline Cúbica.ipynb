{
 "cells": [
  {
   "cell_type": "markdown",
   "id": "7680cbee-ee27-4276-8e72-73e9bd0253f2",
   "metadata": {},
   "source": [
    "# Interpolação por Spline Cúbica"
   ]
  },
  {
   "cell_type": "markdown",
   "id": "d8e1cbd4-5332-49ed-b2bf-b207a89f5a70",
   "metadata": {},
   "source": [
    "A interpolação spline cúbica é método usado para criar uma função por partes, função matemática que é composta por diferentes expressões em diferentes intervalos do domínio. Os intervalos nesse casos são definidos a partir do conjunto de dados organizados em ordem crescente nesses intervalos construimos uma função polinomial de terceiro grau para representação os valores entre seus limites."
   ]
  },
  {
   "cell_type": "markdown",
   "id": "8406d1aa-e3db-422d-b187-84e1d10f403c",
   "metadata": {},
   "source": [
    "## Definição"
   ]
  },
  {
   "cell_type": "markdown",
   "id": "a64c84be-e507-49f8-b216-593247fd6bdf",
   "metadata": {
    "jp-MarkdownHeadingCollapsed": true
   },
   "source": [
    "Dados um conjuntos de $n$ pontos de dados $(x_{i},y_{i})$ onde $x_{0}<x_{1}<\\cdots<x_{n-2}<x_{n-1}$ a spline cúbica $S(x)$ é uma função no formanto:\n",
    "\n",
    "$S(x)=\\begin{cases}\n",
    "s_{0} = a_{0}+b_{0}(x-x_{0})+c_{0}(x-x_{0})^{2}+d_{0}(x-x_{0})^{3} & x_{0}\\leq x \\leq x_{1} \\\\\n",
    "\\vdots & \\vdots \\\\\n",
    "s_{i} = a_{i}+b_{i}(x-x_{i})+c_{i}(x-x_{i})^{2}+d_{i}(x-x_{i})^{3} & x_{i-1}\\leq x \\leq x_{i} \\\\\n",
    "\\vdots & \\vdots \\\\\n",
    "s_{n-2} = a_{n-2}+b_{n-2}(x-x_{n-2})+c_{n-2}(x-x_{n-2})^{2}+d_{n-2}(x-x_{n-2})^{3} & x_{n-2}\\leq x \\leq x_{n-1}\n",
    "\\end{cases}\n",
    "$\n",
    "\n",
    "São condições de contorno para sua existência:\n",
    "\n",
    "|Ponto|Condição - 01|Condição - 02|Condição - 03|Condição - 04|\n",
    "|:-:|:-:|:-:|:-:|:-:|\n",
    "|$0$|$S_{0}(x_{0}) = y_{0}$|$S_{0}(x_{1}) = y_{1}$|$S_{0}^{'}(x_{1}) = S_{1}^{'}(x_{1})$|$S_{0}^{''}(x_{1}) = S_{1}^{''}(x_{1})$|\n",
    "|$1$|$S_{1}(x_{1}) = y_{1}$|$S_{1}(x_{2}) = y_{2}$|$S_{1}^{'}(x_{2}) = S_{2}^{'}(x_{2})$|$S_{1}^{''}(x_{2}) = S_{2}^{''}(x_{2})$|\n",
    "|$\\vdots$|$\\vdots$|$\\vdots$|$\\vdots$|$\\vdots$|\n",
    "|$i-1$|$S_{i-1}(x_{i-1}) = y_{i-1}$|$S_{i-1}(x_{i}) = y_{i}$|$S_{i-1}^{'}(x_{i}) = S_{i}^{'}(x_{i})$|$S_{i-1}^{''}(x_{i}) = S_{i}^{''}(x_{i})$|\n",
    "|$i$|$S_{i}(x_{i}) = y_{i}$|$S_{i}(x_{i+1}) = y_{i+1}$|$S_{i}^{'}(x_{i+1}) = S_{i+1}^{'}(x_{i+1})$|$S_{i}^{''}(x_{i+1}) = S_{i+1}^{''}(x_{i+1})$|\n",
    "|$i+1$|$S_{i+1}(x_{i+1}) = y_{i+1}$|$S_{i+1}(x_{i+2}) = y_{i+2}$|$S_{i+1}^{'}(x_{i+2}) = S_{i+2}^{'}(x_{i+2})$|$S_{i+1}^{''}(x_{i+2}) = S_{i+2}^{''}(x_{i+2})$|\n",
    "|$\\vdots$|$\\vdots$|$\\vdots$|$\\vdots$|$\\vdots$|\n",
    "|$n-3$|$S_{n-3}(x_{n-3}) = y_{n-3}$|$S_{n-3}(x_{n-2}) = y_{n-2}$|$S_{n-3}^{'}(x_{n-2}) = S_{n-2}^{'}(x_{n-2})$|$S_{n-3}^{''}(x_{n-2}) = S_{n-2}^{''}(x_{n-2})$|\n",
    "|$n-2$|$S_{n-2}(x_{n-2}) = y_{n-2}$|$S_{n-2}(x_{n-1}) = y_{n-1}$|----|----|\n",
    "|$n-1$|----|----|----|----|\n",
    "\n",
    "Quando temos $n$ pontos a spline e composta por $n-1$ equações cada equação que compõem a spline apresentam quatro paramêtros, assim temos um total de $4(n-1)=4n-4$ paramêtros para conseguimos determinar a spline. As quatro condições impostas nos fornecem um total de $2(n-1)+2(n-2)=4n-6$ relações entre as equações. Observamos que $4n-4 \\neq 4n-6$, assim não temos como determinar todos os paramêtros, isso nos deixa com a necessidade de determinar mais duas relações. Por isso impomos um das seguintes condições de fronteira:\n",
    "\n",
    "1. As derivadas nos pontos finais são conhecidas, condições de contorno fixada.\n",
    "   > $s_{0}^{'}(x_{0})=k_{1}$ e $s_{n-2}^{'}(x_{n-1})=k_{2}$\n",
    "2. As segundas derivadas nos pontos finais são conhecidas, quando $s_{0}^{''}(x_{0})=s_{n-1}^{''}(x_{n-1})=0$ chamamos de condição de contorno natural ou simples\n",
    "   > $s_{0}^{''}(x_{0})=k_{1}$ e $s_{n-2}^{''}(x_{n-1})=k_{2}$\n",
    "\n",
    "Quando dispomosd de uma dessas condições possuímos o número toda de equações para determinar a spline, longe disso somos capazas de elaborar outras condições de fronteiras para obtermos outros modelos de interpolação que solucionar essa modelagem em questão.\n",
    "\n",
    "**Referências**\n",
    "* [Interpolação cúbica segmentada - spline](https://www.ufrgs.br/reamat/CalculoNumerico/livro-py/i1-interpolacao_cubica_segmentada_-_spline.html)\n",
    "* [Cubic Spline Interpolation](https://en.wikiversity.org/wiki/Cubic_Spline_Interpolation)\n",
    "* [Interpolaçõa Polinomial Splines Cúbicos](https://www.ime.usp.br/mat/2458/textos/splines.pdf)"
   ]
  },
  {
   "cell_type": "markdown",
   "id": "bc4e44e2-8e47-47a7-9783-4e79e1722b08",
   "metadata": {},
   "source": [
    "## Observação"
   ]
  },
  {
   "cell_type": "markdown",
   "id": "260cfaf5-e468-46d9-be6d-67cb53c4f390",
   "metadata": {},
   "source": [
    "Destamos que poderiamos recorrer diretamente a biblioteca [scipy](https://scipy.org/) por contém o método [`scipy.interpolate.CubicSpline`](https://docs.scipy.org/doc/scipy/reference/generated/scipy.interpolate.CubicSpline.html) que opera diretamente com esse método de interpolação. Recorre o scipy para modelagem desse tipo de interpolação se mostra muito mais eficiente em diverso níveis, diverso modelos de spline e velocidade no processamento, esse notebook trata somente de uma dos métodos de interpolação por Spline Cúbica de condição natural."
   ]
  },
  {
   "cell_type": "markdown",
   "id": "40901a75-04c8-4946-b677-660de9b716c2",
   "metadata": {},
   "source": [
    "# Funções"
   ]
  },
  {
   "cell_type": "markdown",
   "id": "a38bd6f1-68c9-4701-98ea-f670ddaa607f",
   "metadata": {},
   "source": [
    "## Coeficientes da Matriz de solução"
   ]
  },
  {
   "cell_type": "markdown",
   "id": "ba8606f6-e0a5-4422-a0f1-8d73b4fecc2a",
   "metadata": {},
   "source": [
    "Função que gera a matriz dos coeficientes dos polinômios $s_{i}$ que formam a função definida por partes."
   ]
  },
  {
   "cell_type": "code",
   "execution_count": 1,
   "id": "0810b017-1ab0-4ffa-8f98-116979eaa1d2",
   "metadata": {},
   "outputs": [],
   "source": [
    "def condicao_um (x = []):\n",
    "    '''\n",
    "    Gera os coeficientes da primeira condição para determinar as subfunções da spline.\n",
    "    \n",
    "    Parâmetros:\n",
    "        x (list): Lista das abscissas dos pontos para determinar a spline.\n",
    "      \n",
    "    Retorna:\n",
    "        list: Uma lista de listas, onde cada sublista contém os coeficientes para montar a matriz de solução do sistema.\n",
    "    '''\n",
    "    # Numeros de equações\n",
    "    quantidade_de_equacoes = len(x) - 1\n",
    "\n",
    "    # Coeficientes\n",
    "    coeficientes = []\n",
    "\n",
    "    #Gerar os coeficientes de cada subfunção da função por parte\n",
    "    j = 0\n",
    "    for _ in range(quantidade_de_equacoes):\n",
    "        k = [0 for _ in range(4*quantidade_de_equacoes)]\n",
    "        k[j] = 1\n",
    "        j += 4\n",
    "        coeficientes.append(k)\n",
    "        \n",
    "    return coeficientes"
   ]
  },
  {
   "cell_type": "code",
   "execution_count": 2,
   "id": "93c0c85c-c47a-496f-b952-1ac8f3d828bb",
   "metadata": {},
   "outputs": [
    {
     "data": {
      "text/plain": [
       "[[1, 0, 0, 0, 0, 0, 0, 0], [0, 0, 0, 0, 1, 0, 0, 0]]"
      ]
     },
     "execution_count": 2,
     "metadata": {},
     "output_type": "execute_result"
    }
   ],
   "source": [
    "condicao_um([-5,-1,3])"
   ]
  },
  {
   "cell_type": "code",
   "execution_count": 3,
   "id": "bae57571-669c-41dc-a574-e08bfdf3fb06",
   "metadata": {},
   "outputs": [],
   "source": [
    "def condicao_dois(x = []):\n",
    "    '''\n",
    "    Gera os coeficientes da segunda condição para determinar as subfunções da spline.\n",
    "    \n",
    "    Parâmetros:\n",
    "        x (list): Lista das abscissas dos pontos para determinar a spline.\n",
    "      \n",
    "    Retorna:\n",
    "        list: Uma lista de listas, onde cada sublista contém os coeficientes para montar a matriz de solução do sistema.\n",
    "    '''\n",
    "    # Numeros de equações\n",
    "    quantidade_de_equacoes = len(x) - 1\n",
    "\n",
    "    # Coeficientes\n",
    "    coeficientes = []\n",
    "    \n",
    "    #Gerar os coeficientes de cada subfunção da função por parte\n",
    "    i,j = 0,0\n",
    "    for _ in range(quantidade_de_equacoes):\n",
    "        k = [0 for elemento in range(4*quantidade_de_equacoes)]\n",
    "        k[j]  = 1\n",
    "        k[j+1] = x[i+1] - x[i]\n",
    "        k[j+2] = (x[i+1] - x[i])**2\n",
    "        k[j+3] = (x[i+1] - x[i])**3\n",
    "        coeficientes.append(k)\n",
    "        j += 4\n",
    "        i += 1\n",
    "\n",
    "    return coeficientes"
   ]
  },
  {
   "cell_type": "code",
   "execution_count": 4,
   "id": "189f89e6-f735-4c50-aabf-9ee02e768577",
   "metadata": {},
   "outputs": [
    {
     "data": {
      "text/plain": [
       "[[1, 4, 16, 64, 0, 0, 0, 0], [0, 0, 0, 0, 1, 4, 16, 64]]"
      ]
     },
     "execution_count": 4,
     "metadata": {},
     "output_type": "execute_result"
    }
   ],
   "source": [
    "condicao_dois([-5,-1,3])"
   ]
  },
  {
   "cell_type": "code",
   "execution_count": 5,
   "id": "627827b0-04d4-46e0-9ac6-9be7c3d41b09",
   "metadata": {},
   "outputs": [],
   "source": [
    "def condicao_tres(x = []):\n",
    "    '''\n",
    "    Gera os coeficientes da terceira condição para determinar as subfunções da spline.\n",
    "    \n",
    "    Parâmetros:\n",
    "        x (list): Lista das abscissas dos pontos para determinar a spline.\n",
    "      \n",
    "    Retorna:\n",
    "        list: Uma lista de listas, onde cada sublista contém os coeficientes para montar a matriz de solução do sistema.\n",
    "    '''\n",
    "    # Numeros de equações\n",
    "    quantidade_de_equacoes = len(x) - 1\n",
    "\n",
    "    # Coeficientes\n",
    "    coeficientes = []\n",
    "\n",
    "    # Gerar os coeficientes de cada uma das primeira derivadas das subfunção da função por parte\n",
    "    i,j = 0, 0\n",
    "    for _ in range(quantidade_de_equacoes-1):\n",
    "        k = [0 for i in range(4*quantidade_de_equacoes)]\n",
    "        k[j + 1] = 1\n",
    "        k[j + 2] = 2*(x[i+1]-x[i])\n",
    "        k[j + 3] = 3*(x[i+1]-x[i])**2\n",
    "        k[j + 5] = -1\n",
    "        \n",
    "        coeficientes.append(k)\n",
    "        j += 4\n",
    "        i += 1\n",
    "\n",
    "    return coeficientes"
   ]
  },
  {
   "cell_type": "code",
   "execution_count": 6,
   "id": "c1fea317-a320-4b98-89fa-407544b91309",
   "metadata": {},
   "outputs": [
    {
     "data": {
      "text/plain": [
       "[[0, 1, 4, 12, 0, -1, 0, 0]]"
      ]
     },
     "execution_count": 6,
     "metadata": {},
     "output_type": "execute_result"
    }
   ],
   "source": [
    "condicao_tres([-2,0,2])"
   ]
  },
  {
   "cell_type": "code",
   "execution_count": 7,
   "id": "f1716529-c2be-4138-bd96-4e42deb72655",
   "metadata": {},
   "outputs": [],
   "source": [
    "def condicao_quatro(x = []):\n",
    "    '''\n",
    "    Gera os coeficientes da quarta condição para determinar as subfunções da spline.\n",
    "    \n",
    "    Parâmetros:\n",
    "        x (list): Lista das abscissas dos pontos para determinar a spline.\n",
    "      \n",
    "    Retorna:\n",
    "        list: Uma lista de listas, onde cada sublista contém os coeficientes para montar a matriz de solução do sistema.\n",
    "    '''\n",
    "    # Numeros de equações\n",
    "    quantidade_de_equacoes = len(x) - 1\n",
    "\n",
    "    # Coeficientes\n",
    "    coeficientes = []\n",
    "\n",
    "    # Gerar os coeficientes de cada uma das primeira derivadas das subfunção da função por parte\n",
    "    i,j = 0,0\n",
    "    for _ in range(quantidade_de_equacoes-1):\n",
    "        k = [0 for i in range(4*quantidade_de_equacoes)]\n",
    "        k[j + 2] = 2\n",
    "        k[j + 3] = 6*(x[i+1]-x[i])\n",
    "        k[j + 6] = -2\n",
    "        \n",
    "        coeficientes.append(k)\n",
    "        j += 4\n",
    "        i += 1\n",
    "        \n",
    "    return coeficientes"
   ]
  },
  {
   "cell_type": "code",
   "execution_count": 8,
   "id": "a7cc6f42-5a02-41ca-bd7b-813f6323874f",
   "metadata": {},
   "outputs": [
    {
     "data": {
      "text/plain": [
       "[[0, 0, 2, 24, 0, 0, -2, 0]]"
      ]
     },
     "execution_count": 8,
     "metadata": {},
     "output_type": "execute_result"
    }
   ],
   "source": [
    "condicao_quatro([-5,-1,3])"
   ]
  },
  {
   "cell_type": "code",
   "execution_count": 9,
   "id": "27b5b307-b468-4447-a1f2-23d2e73a4d76",
   "metadata": {},
   "outputs": [],
   "source": [
    "def condicao_cinco(x = [], condicao = 'natural'):\n",
    "    '''\n",
    "    Gera os coeficientes da quinta condição para determinar as subfunções da spline.\n",
    "    \n",
    "    Parâmetros:\n",
    "        x (list): Lista das abscissas dos pontos para determinar a spline.\n",
    "        condicao (str): Tipo de condição a se aplicada, fixada quando temos somente a primeira derivada e natural quando temos a segunda derivada.\n",
    "      \n",
    "    Retorna:\n",
    "        list: Uma lista de listas, onde cada sublista contém os coeficientes para montar a matriz de solução do sistema.\n",
    "    '''\n",
    "    # Número de equações \n",
    "    quantidade_de_equacoes = len(x) - 1\n",
    "\n",
    "    # Lista com os coeficientes \n",
    "    coeficientes = []\n",
    "\n",
    "    # Criar a lista com os coeficientes de  cada subfunção\n",
    "    if condicao == 'fixado':\n",
    "        k = [0 for i in range(4*quantidade_de_equacoes)]\n",
    "        k[1] = 1\n",
    "        k[2] = 2*(x[0]-x[0])\n",
    "        k[3] = 3*(x[0]-x[0])**2\n",
    "\n",
    "        z = [0 for i in range(4*quantidade_de_equacoes)]\n",
    "        z[-1] = 3*(x[-1]-x[-2])**2\n",
    "        z[-2] = 2*(x[-1]-x[-2])\n",
    "        z[-3] = 1\n",
    "    \n",
    "        coeficientes = [k,z]\n",
    "    \n",
    "    if condicao == 'natural':\n",
    "        k = [0 for i in range(4*quantidade_de_equacoes)]\n",
    "        k[2] = 2\n",
    "        k[3] = 6*(x[0]-x[0])\n",
    "\n",
    "        z = [0 for i in range(4*quantidade_de_equacoes)]\n",
    "        z[-1] = 6*(x[-1]-x[-2])\n",
    "        z[-2] = 2\n",
    "    \n",
    "        coeficientes = [k,z]\n",
    "\n",
    "    return coeficientes"
   ]
  },
  {
   "cell_type": "code",
   "execution_count": 10,
   "id": "dd046b89-044b-4ea4-9033-9b3537dd37f9",
   "metadata": {},
   "outputs": [
    {
     "data": {
      "text/plain": [
       "[[0, 0, 2, 0, 0, 0, 0, 0], [0, 0, 0, 0, 0, 0, 2, 12]]"
      ]
     },
     "execution_count": 10,
     "metadata": {},
     "output_type": "execute_result"
    }
   ],
   "source": [
    "condicao_cinco([-2,0,2], condicao = 'natural')"
   ]
  },
  {
   "cell_type": "code",
   "execution_count": 11,
   "id": "50ecf0b7-fba0-4e18-b90e-3982a5dd6fea",
   "metadata": {},
   "outputs": [
    {
     "data": {
      "text/plain": [
       "[[0, 1, 0, 0, 0, 0, 0, 0], [0, 0, 0, 0, 0, 1, 4, 12]]"
      ]
     },
     "execution_count": 11,
     "metadata": {},
     "output_type": "execute_result"
    }
   ],
   "source": [
    "condicao_cinco([-2,0,2], condicao='fixado')"
   ]
  },
  {
   "cell_type": "code",
   "execution_count": 12,
   "id": "cfc4c5cb-6fa8-4a46-9531-32b387a746a1",
   "metadata": {},
   "outputs": [],
   "source": [
    "def matriz_dos_coeficientes(x = [], condicao = 'natural'):\n",
    "    '''\n",
    "    Combina os coeficientes gerados pelas funções de condições para a montagem a matriz dos coeficientes para solucionar o sistema linear afim \n",
    "    de determinar os coeficientes de cada subfunção.\n",
    "    \n",
    "    Paramêtros:\n",
    "        x (list): Lista das abscissas dos pontos para determinar a spline.\n",
    "        condicao (str): Tipo de condição a se aplicada, \"fixada\" quando temos somente a primeira derivada e \"natural\" quando temos a segunda derivada.\n",
    "\n",
    "    Return:\n",
    "        list: Uma lista de listas.\n",
    "    '''\n",
    "    # Junta todas as sublistas das condições em uma unica lista\n",
    "    coeficientes = condicao_um(x) + condicao_dois(x) + condicao_tres(x) + condicao_quatro(x) + condicao_cinco(x, condicao)\n",
    "    \n",
    "    return coeficientes"
   ]
  },
  {
   "cell_type": "code",
   "execution_count": 13,
   "id": "1aa3af48-7465-43cd-b19d-8c6f92e506c6",
   "metadata": {},
   "outputs": [
    {
     "data": {
      "text/plain": [
       "[[1, 0, 0, 0, 0, 0, 0, 0],\n",
       " [0, 0, 0, 0, 1, 0, 0, 0],\n",
       " [1, 2, 4, 8, 0, 0, 0, 0],\n",
       " [0, 0, 0, 0, 1, 2, 4, 8],\n",
       " [0, 1, 4, 12, 0, -1, 0, 0],\n",
       " [0, 0, 2, 12, 0, 0, -2, 0],\n",
       " [0, 0, 2, 0, 0, 0, 0, 0],\n",
       " [0, 0, 0, 0, 0, 0, 2, 12]]"
      ]
     },
     "execution_count": 13,
     "metadata": {},
     "output_type": "execute_result"
    }
   ],
   "source": [
    "matriz_dos_coeficientes([-2,0,2], condicao = 'natural')"
   ]
  },
  {
   "cell_type": "code",
   "execution_count": 14,
   "id": "44626ccc-9953-4c41-b7da-01e07189bc70",
   "metadata": {},
   "outputs": [
    {
     "data": {
      "text/plain": [
       "[[1, 0, 0, 0, 0, 0, 0, 0],\n",
       " [0, 0, 0, 0, 1, 0, 0, 0],\n",
       " [1, 2, 4, 8, 0, 0, 0, 0],\n",
       " [0, 0, 0, 0, 1, 2, 4, 8],\n",
       " [0, 1, 4, 12, 0, -1, 0, 0],\n",
       " [0, 0, 2, 12, 0, 0, -2, 0],\n",
       " [0, 1, 0, 0, 0, 0, 0, 0],\n",
       " [0, 0, 0, 0, 0, 1, 4, 12]]"
      ]
     },
     "execution_count": 14,
     "metadata": {},
     "output_type": "execute_result"
    }
   ],
   "source": [
    "matriz_dos_coeficientes([-2,-0,2], condicao='fixado')"
   ]
  },
  {
   "cell_type": "markdown",
   "id": "f754aeaf-28dd-4bac-8655-5f9e5a50f422",
   "metadata": {},
   "source": [
    "## Matriz com resultados dos coeficientes"
   ]
  },
  {
   "cell_type": "markdown",
   "id": "64d0a12c-0d6d-4fb8-b7e3-d4a6439c754e",
   "metadata": {},
   "source": [
    "Função que gera a matriz dos coeficientes com base nas ordenadas das diferentes equações $s_{i}$."
   ]
  },
  {
   "cell_type": "code",
   "execution_count": 15,
   "id": "525b077b-b5d6-45d4-87cb-97ddb77ca50d",
   "metadata": {},
   "outputs": [],
   "source": [
    "def termos_constantes(y = [], valores = [0,0]):\n",
    "    '''\n",
    "    Gerar a lista com termos constantes para solução do sistema linear que ira determinar as subfunções.\n",
    "    \n",
    "    Paramêtros:\n",
    "        y: Lista com as ordenadas para determinar o spline.\n",
    "        valores (list): Lista de dois elementos que definir os termos constantes das quinta condição\n",
    "\n",
    "    Return:\n",
    "        list: Uma lista com os termos constantes para solução.\n",
    "    '''    \n",
    "    #Lista com resultados não nulos\n",
    "    termos_constantes = y[:-1] # Coeficientes da primeira condição\n",
    "    termos_constantes += y[1:] # Coeficientes da segunda condição\n",
    "    termos_constantes += [0]*(len(y) - 2) # Coeficientes da Terceira condição\n",
    "    termos_constantes += [0]*(len(y) - 2) # Coeficientes da Quarta condição\n",
    "    termos_constantes += valores # Coeficientes da Quinta condição\n",
    "    \n",
    "    return termos_constantes"
   ]
  },
  {
   "cell_type": "code",
   "execution_count": 16,
   "id": "cd5fa702-52f0-4572-91a2-b97befbae01c",
   "metadata": {},
   "outputs": [
    {
     "data": {
      "text/plain": [
       "[-6, 0, 0, 6, 0, 0, 0, 0]"
      ]
     },
     "execution_count": 16,
     "metadata": {},
     "output_type": "execute_result"
    }
   ],
   "source": [
    "termos_constantes([-6,0,6])"
   ]
  },
  {
   "cell_type": "code",
   "execution_count": 17,
   "id": "53beef15-82fb-436c-afc0-df0eab3cebf5",
   "metadata": {},
   "outputs": [
    {
     "data": {
      "text/plain": [
       "[-6, 0, 0, 6, 0, 0, 11, 11]"
      ]
     },
     "execution_count": 17,
     "metadata": {},
     "output_type": "execute_result"
    }
   ],
   "source": [
    "termos_constantes([-6,0,6], valores = [11,11])"
   ]
  },
  {
   "cell_type": "markdown",
   "id": "4376fb7f-d590-4fee-a5db-219d4dc66063",
   "metadata": {},
   "source": [
    "## Solução do sistema"
   ]
  },
  {
   "cell_type": "markdown",
   "id": "a02b3f33-a113-413e-b086-3264b225096b",
   "metadata": {},
   "source": [
    "A solução do sistema matricial utilizaremos a biblioteca [numpy](https://numpy.org/) por meio da função [numpy.linalg.solve](https://numpy.org/doc/stable/reference/generated/numpy.linalg.solve.html#numpy.linalg.solve) para soluçaõ do sistema matricial"
   ]
  },
  {
   "cell_type": "code",
   "execution_count": 18,
   "id": "2fc37c90-e1d5-4a5d-ae91-f0d29c12e96c",
   "metadata": {},
   "outputs": [],
   "source": [
    "# Módulo para solucionar o sistema linear\n",
    "from numpy.linalg import solve"
   ]
  },
  {
   "cell_type": "code",
   "execution_count": 19,
   "id": "f67dd7f9-1de0-41b9-8825-a8a67cda52e8",
   "metadata": {},
   "outputs": [],
   "source": [
    "def solucao(x = [], y = [], condicao = 'natural', valores = [0,0]):\n",
    "    '''\n",
    "    Lista com os coeficientes das diversas subfunções que compõem a spline.\n",
    "    \n",
    "    Paramêtros:\n",
    "        x (list): lista com abscissas dos diversos pontos.\n",
    "        y (list): Lista com as ordenadas dos diversos pontos.\n",
    "        condicao (str): Tipo de condição a se aplicada, \"fixado\" quando temos somente a primeira derivada e \"natural\" quando temos a segunda derivada.\n",
    "        valores (list): Lista de dois elementos que definir os termos constantes das condições.\n",
    "\n",
    "    Return:\n",
    "        list: Lista com os coeficientes associados a cada subfunção que compõem a spline.\n",
    "    '''\n",
    "    \n",
    "    #Matriz dos coeficientes\n",
    "    A = matriz_dos_coeficientes(x, condicao)\n",
    "    \n",
    "    #Matriz dos termos independentes\n",
    "    b = termos_constantes(y, valores)\n",
    "    \n",
    "    return solve(A,b) # solução pelo numpy"
   ]
  },
  {
   "cell_type": "code",
   "execution_count": 20,
   "id": "697201f6-0d9a-4fa7-90d4-40c653401e67",
   "metadata": {},
   "outputs": [
    {
     "data": {
      "text/plain": [
       "array([-6.,  3.,  0., -0.,  0.,  3., -0.,  0.])"
      ]
     },
     "execution_count": 20,
     "metadata": {},
     "output_type": "execute_result"
    }
   ],
   "source": [
    "solucao(x = [-2,0,2], y = [-6,0,6], condicao = 'natural')"
   ]
  },
  {
   "cell_type": "code",
   "execution_count": 21,
   "id": "edb98ee0-cac7-469e-b989-f740cf075e8b",
   "metadata": {},
   "outputs": [
    {
     "data": {
      "text/plain": [
       "array([-6.   , -2.5  ,  5.5  , -1.375,  0.   ,  3.   , -2.75 ,  1.375])"
      ]
     },
     "execution_count": 21,
     "metadata": {},
     "output_type": "execute_result"
    }
   ],
   "source": [
    "solucao(x = [-2,0,2], y = [-6,0,6], condicao = 'natural', valores = [11,11])"
   ]
  },
  {
   "cell_type": "code",
   "execution_count": 22,
   "id": "e4487763-0bad-4601-816a-75a2184aa69f",
   "metadata": {},
   "outputs": [
    {
     "data": {
      "text/plain": [
       "array([-6.00000000e+00,  0.00000000e+00,  2.25000000e+00, -3.75000000e-01,\n",
       "        0.00000000e+00,  4.50000000e+00, -7.40148683e-17, -3.75000000e-01])"
      ]
     },
     "execution_count": 22,
     "metadata": {},
     "output_type": "execute_result"
    }
   ],
   "source": [
    "solucao(x = [-2,0,2], y = [-6,0,6], condicao = 'fixado')"
   ]
  },
  {
   "cell_type": "code",
   "execution_count": 23,
   "id": "d30514ea-2657-4075-8138-5ff82f2cce23",
   "metadata": {},
   "outputs": [
    {
     "data": {
      "text/plain": [
       "array([ -6.   , -12.   ,  14.25 ,  -3.375,   0.   ,   4.5  ,  -6.   ,\n",
       "         2.625])"
      ]
     },
     "execution_count": 23,
     "metadata": {},
     "output_type": "execute_result"
    }
   ],
   "source": [
    "solucao(x = [-2,0,2], y = [-6,0,6], condicao = 'fixado', valores = [-12,12])"
   ]
  },
  {
   "cell_type": "markdown",
   "id": "fb153156-3a4b-4d8e-836e-6d7236261233",
   "metadata": {},
   "source": [
    "## Função Spline Cúbica geral"
   ]
  },
  {
   "cell_type": "code",
   "execution_count": 24,
   "id": "42feaf46-a94b-4bb7-bcfd-688de34d237f",
   "metadata": {},
   "outputs": [],
   "source": [
    "def Spline_Cubica(x = [], y = [], coeficientes = True, condicao = 'natural', valores = [0,0], valor = None):\n",
    "    '''\n",
    "    Determinar os coeficientes das subfunções ou um valor especifico para uma abscissa\n",
    "    \n",
    "    Paramêtros:\n",
    "        x (list): Lista com abscissas dos pontos de interpolação.\n",
    "        y (list): Lista com as ordenadas dos pontos de interpolação.\n",
    "        valores (list, opcional): Lista com os valores necessários para aplicar as condições de fronteira.\n",
    "        coeficientes (bool, opcional): True para mostrar os diversos coeficientes das subfunções da spline.\n",
    "        condicao (str, opcional): Defini a condição de fronteira a se aplicada. 'natural' ou 'fixada'.\n",
    "        valor (float, opcional): Abscissa para qual se deseja calcular a spline\n",
    "    \n",
    "    Retorno:\n",
    "        list or float:\n",
    "            - Se `coeficientes` for True, retorna uma lista contendo os coeficientes dos polinômios de cada subfunção que compõem o spline,\n",
    "            contrário, False, não retorna nada.\n",
    "            - Se `valor` for fornecido, retorna o valor do spline calculado para uma determinada abscissa `valor`.\n",
    "        None: Quando o `valor` inserido está fora do intervalor [x_0, ..., x_(n-1)]\n",
    "    '''\n",
    "    # Determinar os ceficientes do spline cubica\n",
    "    coef = solucao(x, y, condicao, valores)\n",
    "\n",
    "    # Mostrar os coeficientes\n",
    "    if coeficientes == True:\n",
    "        return coef\n",
    "\n",
    "    # Valor determinando  \n",
    "    if valor != None:\n",
    "        for i in range(len(x)-1):\n",
    "            if x[i] <= valor <= x[i+1]:\n",
    "                a = coef[4*i]\n",
    "                b = coef[4*i + 1]*(valor - x[i])\n",
    "                c = coef[4*i + 2]*(valor - x[i])**2\n",
    "                d = coef[4*i + 3]*(valor - x[i])**3\n",
    "\n",
    "                s = a + b + c + d\n",
    "\n",
    "                return s"
   ]
  },
  {
   "cell_type": "code",
   "execution_count": 25,
   "id": "f0d845b8-47ad-4a61-a167-b166747d264f",
   "metadata": {},
   "outputs": [],
   "source": [
    "Spline_Cubica(x = [-2,0,2], y = [-6,0,6], coeficientes = False)"
   ]
  },
  {
   "cell_type": "code",
   "execution_count": 26,
   "id": "44ae2a79-9784-4d58-ae03-5f94da0f92db",
   "metadata": {
    "scrolled": true
   },
   "outputs": [
    {
     "data": {
      "text/plain": [
       "array([-6.,  3.,  0., -0.,  0.,  3., -0.,  0.])"
      ]
     },
     "execution_count": 26,
     "metadata": {},
     "output_type": "execute_result"
    }
   ],
   "source": [
    "Spline_Cubica(x = [-2,0,2], y = [-6,0,6], coeficientes = True, condicao = 'natural')"
   ]
  },
  {
   "cell_type": "code",
   "execution_count": 27,
   "id": "16f637fa-3024-461e-8f6c-79944cddf873",
   "metadata": {},
   "outputs": [
    {
     "data": {
      "text/plain": [
       "array([-6.        ,  2.66666667,  0.5       , -0.16666667,  0.        ,\n",
       "        2.66666667, -0.5       ,  0.33333333])"
      ]
     },
     "execution_count": 27,
     "metadata": {},
     "output_type": "execute_result"
    }
   ],
   "source": [
    "Spline_Cubica(x = [-2,0,2], y = [-6,0,6], coeficientes = True, condicao = 'natural', valores = [1,3])"
   ]
  },
  {
   "cell_type": "code",
   "execution_count": 28,
   "id": "7875c7b4-83d1-4f21-a211-d163dd18742e",
   "metadata": {},
   "outputs": [
    {
     "data": {
      "text/plain": [
       "array([-6.00000000e+00,  0.00000000e+00,  2.25000000e+00, -3.75000000e-01,\n",
       "        0.00000000e+00,  4.50000000e+00, -7.40148683e-17, -3.75000000e-01])"
      ]
     },
     "execution_count": 28,
     "metadata": {},
     "output_type": "execute_result"
    }
   ],
   "source": [
    "Spline_Cubica(x = [-2,0,2], y = [-6,0,6], coeficientes = True, condicao = 'fixado')"
   ]
  },
  {
   "cell_type": "code",
   "execution_count": 29,
   "id": "3200be96-bace-410b-af0a-ee7ce70ccf16",
   "metadata": {},
   "outputs": [
    {
     "data": {
      "text/plain": [
       "array([-6.   ,  1.   ,  1.75 , -0.375,  0.   ,  3.5  , -0.5  ,  0.125])"
      ]
     },
     "execution_count": 29,
     "metadata": {},
     "output_type": "execute_result"
    }
   ],
   "source": [
    "Spline_Cubica(x = [-2,0,2], y = [-6,0,6], coeficientes = True, condicao = 'fixado', valores = [1,3])"
   ]
  },
  {
   "cell_type": "code",
   "execution_count": 30,
   "id": "fae6693d-f099-4f1d-bfc5-894bef2a0319",
   "metadata": {},
   "outputs": [
    {
     "data": {
      "text/plain": [
       "np.float64(1.5)"
      ]
     },
     "execution_count": 30,
     "metadata": {},
     "output_type": "execute_result"
    }
   ],
   "source": [
    "Spline_Cubica(x = [-2,0,2], y = [-6,0,6], coeficientes = False, condicao = 'natural', valor = 0.5)"
   ]
  },
  {
   "cell_type": "code",
   "execution_count": 31,
   "id": "2eb9c811-eedd-4ad4-9aa0-4da14012d88e",
   "metadata": {},
   "outputs": [
    {
     "data": {
      "text/plain": [
       "np.float64(1.25)"
      ]
     },
     "execution_count": 31,
     "metadata": {},
     "output_type": "execute_result"
    }
   ],
   "source": [
    "Spline_Cubica(x = [-2,0,2], y = [-6,0,6], coeficientes = False, condicao = 'natural', valores = [1,3], valor = 0.5)"
   ]
  },
  {
   "cell_type": "code",
   "execution_count": 32,
   "id": "a00fb476-bfe9-4fec-83ec-8d9dd1c3ff2d",
   "metadata": {},
   "outputs": [
    {
     "data": {
      "text/plain": [
       "np.float64(2.203125)"
      ]
     },
     "execution_count": 32,
     "metadata": {},
     "output_type": "execute_result"
    }
   ],
   "source": [
    "Spline_Cubica(x = [-2,0,2], y = [-6,0,6], coeficientes = False, condicao = 'fixado', valor = 0.5)"
   ]
  },
  {
   "cell_type": "code",
   "execution_count": 33,
   "id": "b33270f0-a13f-4cc6-9da1-5b1168c5b4f0",
   "metadata": {},
   "outputs": [
    {
     "data": {
      "text/plain": [
       "np.float64(1.640625)"
      ]
     },
     "execution_count": 33,
     "metadata": {},
     "output_type": "execute_result"
    }
   ],
   "source": [
    "Spline_Cubica(x = [-2,0,2], y = [-6,0,6], coeficientes = False, condicao = 'fixado', valores = [1,3], valor = 0.5)"
   ]
  },
  {
   "cell_type": "markdown",
   "id": "92df1cd3-05cb-4a0c-95a6-7388edfbd449",
   "metadata": {},
   "source": [
    "# Caso particular"
   ]
  },
  {
   "cell_type": "markdown",
   "id": "7f57be22-7706-49a1-b878-a9bff244ea41",
   "metadata": {},
   "source": [
    "Considerando alguns pontos da função $f(x) = x^{3}-x = x(x-1)(x+1)$ no intervalo $[-3, 3]$ construiremos o spline e compararemos com os resultado da função $f(x)$."
   ]
  },
  {
   "cell_type": "code",
   "execution_count": 34,
   "id": "4b6d2a2d-07ae-43d9-9623-88522ee7d428",
   "metadata": {},
   "outputs": [],
   "source": [
    "# Plotar os gráficos\n",
    "from matplotlib.pyplot import plot, title, xticks, yticks, xlabel, ylabel, grid, legend, show"
   ]
  },
  {
   "cell_type": "code",
   "execution_count": 35,
   "id": "964abec4-a51a-45f8-8e04-07325f3c269b",
   "metadata": {},
   "outputs": [
    {
     "data": {
      "image/png": "[encoded data removed]",
      "text/plain": [
       "<Figure size 640x480 with 1 Axes>"
      ]
     },
     "metadata": {},
     "output_type": "display_data"
    }
   ],
   "source": [
    "#Função f(x)\n",
    "x = [i/10 for i in range(-30,31)]\n",
    "f = [i*(i-1)*(i+1) for i in x]\n",
    "\n",
    "#Pontos para interpolação\n",
    "x_interpolacao = [-3,-2,0,2,3]\n",
    "y_interpolacao = [-24,-6,0,6,24]\n",
    "\n",
    "#Função f(x)\n",
    "#plot(x, f, '--', label = 'Função')\n",
    "\n",
    "#Pontos para interpolação\n",
    "plot(x_interpolacao, y_interpolacao, 'ro', label='Pontos de interpolação')\n",
    "\n",
    "# Pontos da curva de interpolação\n",
    "y_spline = [Spline_Cubica(x_interpolacao, y_interpolacao, False, 'fixado', valores = [26,26], valor = i) for i in x]\n",
    "y_spline_ = [Spline_Cubica(x_interpolacao[1:-1], y_interpolacao[1:-1], False, 'natural', valores = [-18,18], valor = i) for i in x]\n",
    "plot(x, y_spline, label = 'Fixado')\n",
    "plot(x, y_spline_, label = 'natural')\n",
    "\n",
    "# Paramêtros do gráfico\n",
    "title('Spline')\n",
    "yticks([i for i in range(-30,30,6)])\n",
    "grid(True)\n",
    "\n",
    "legend()\n",
    "show()"
   ]
  },
  {
   "cell_type": "markdown",
   "id": "f8dbf4de-5524-40cb-9228-cf5499539e3b",
   "metadata": {},
   "source": [
    "Na próxima atualização, a abordagem do modelo `Spline_Cubica`, atualmente implementada como função, será convertida para uma estrutura de classe (`Class`) em Python. Essa mudança permitirá a criação de métodos específicos para o cálculo dos coeficientes das splines e para a determinação de valores específicos.\""
   ]
  }
 ],
 "metadata": {
  "kernelspec": {
   "display_name": "Python 3 (ipykernel)",
   "language": "python",
   "name": "python3"
  },
  "language_info": {
   "codemirror_mode": {
    "name": "ipython",
    "version": 3
   },
   "file_extension": ".py",
   "mimetype": "text/x-python",
   "name": "python",
   "nbconvert_exporter": "python",
   "pygments_lexer": "ipython3",
   "version": "3.13.3"
  }
 },
 "nbformat": 4,
 "nbformat_minor": 5
}
